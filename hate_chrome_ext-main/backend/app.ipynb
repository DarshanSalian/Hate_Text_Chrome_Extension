{
 "cells": [
  {
   "cell_type": "code",
   "execution_count": 1,
   "metadata": {},
   "outputs": [],
   "source": [
    "import os\n",
    "import pandas as pd\n",
    "import tensorflow as tf\n",
    "import numpy as np\n",
    "\n",
    "df = pd.read_csv(os.path.join('jigsaw-toxic-comment-classification-challenge','train.csv', 'train.csv'))\n",
    "\n",
    "from tensorflow.keras.layers import TextVectorization\n",
    "\n",
    "X = df['comment_text']\n",
    "y = df[df.columns[2:]].values\n",
    "\n",
    "MAX_FEATURES = 200000 # number of words in the vocab\n",
    "\n",
    "vectorizer = TextVectorization(max_tokens=MAX_FEATURES,\n",
    "                               output_sequence_length=1800,\n",
    "                               output_mode='int')\n",
    "\n",
    "vectorizer.adapt(X.values)"
   ]
  },
  {
   "cell_type": "code",
   "execution_count": null,
   "metadata": {},
   "outputs": [],
   "source": [
    "from flask import Flask, request, jsonify\n",
    "import re\n",
    "from flask_cors import CORS\n",
    "import tensorflow as tf\n",
    "import numpy as np\n",
    "\n",
    "app = Flask(__name__)\n",
    "CORS(app)\n",
    "\n",
    "model = tf.keras.models.load_model('toxicity.h5')\n",
    "\n",
    "def preprocess_text(text):\n",
    "    sentences = re.split(r'(?<!\\w\\.\\w.)(?<![A-Z][a-z]\\.)(?<=\\.|\\?)\\s', text)\n",
    "    return sentences\n",
    "\n",
    "@app.route('/detect', methods=['POST'])\n",
    "def detect():\n",
    "    data = request.get_json()\n",
    "    text = data['text']\n",
    "    \n",
    "    sentences = preprocess_text(text)\n",
    "    preprocessed_sentences = [vectorizer([sentence]) for sentence in sentences]\n",
    "\n",
    "    # Predict toxicity for all sentences in one batch\n",
    "    predictions = model.predict(np.vstack(preprocessed_sentences))\n",
    "    is_toxic = any(prediction[0] > 0.5 for prediction in predictions)  # Adjust based on your model's output shape\n",
    "\n",
    "    return jsonify({'toxic': is_toxic})\n",
    "\n",
    "if __name__ == '__main__':\n",
    "    app.run(host='0.0.0.0', port=5050)\n"
   ]
  }
 ],
 "metadata": {
  "kernelspec": {
   "display_name": "Python 3",
   "language": "python",
   "name": "python3"
  },
  "language_info": {
   "codemirror_mode": {
    "name": "ipython",
    "version": 3
   },
   "file_extension": ".py",
   "mimetype": "text/x-python",
   "name": "python",
   "nbconvert_exporter": "python",
   "pygments_lexer": "ipython3",
   "version": "3.12.4"
  }
 },
 "nbformat": 4,
 "nbformat_minor": 2
}
